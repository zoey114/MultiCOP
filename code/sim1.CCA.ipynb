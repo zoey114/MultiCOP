{
 "cells": [
  {
   "cell_type": "code",
   "execution_count": 1,
   "metadata": {},
   "outputs": [],
   "source": [
    "import numpy as np\n",
    "from sklearn.cross_decomposition import CCA"
   ]
  },
  {
   "cell_type": "code",
   "execution_count": 6,
   "metadata": {},
   "outputs": [
    {
     "name": "stdout",
     "output_type": "stream",
     "text": [
      "(100, 5)\n",
      "(100, 6)\n"
     ]
    }
   ],
   "source": [
    "# Simulation settings\n",
    "n = 100\n",
    "p_x = 5\n",
    "p_y = 6\n",
    "\n",
    "# For X\n",
    "rho = 0.5\n",
    "cov_X = np.zeros((p_x, p_x))\n",
    "\n",
    "for i in range(p_x):\n",
    "    for j in range(p_x):\n",
    "        cov_X[i, j] = rho ** abs(i - j)\n",
    "\n",
    "np.random.seed(123)\n",
    "X = np.random.multivariate_normal(np.zeros(p_x), cov_X, n)\n",
    "\n",
    "# For Y\n",
    "sigma = 0.2\n",
    "cov_epsilon = np.zeros((p_y, p_y))\n",
    "\n",
    "for i in range(p_y):\n",
    "    for j in range(p_y):\n",
    "        cov_epsilon[i, j] = sigma ** abs(i - j)\n",
    "\n",
    "epsilon = np.random.multivariate_normal(np.zeros(p_y), cov_epsilon, n)\n",
    "\n",
    "mat1 = np.array([[3, 1.5, 2, 0,0],\n",
    "                 [3, 1.5, 2,0,0],\n",
    "                 [3, 1.5, 2,0,0]])\n",
    "mat2 = np.zeros((p_y - 3, p_x))\n",
    "beta_matrix = np.vstack((mat1, mat2))\n",
    "\n",
    "Y = np.dot(X, beta_matrix.T) + epsilon\n",
    "\n",
    "print(X.shape)\n",
    "print(Y.shape)"
   ]
  },
  {
   "cell_type": "code",
   "execution_count": null,
   "metadata": {},
   "outputs": [],
   "source": []
  }
 ],
 "metadata": {
  "kernelspec": {
   "display_name": "atd",
   "language": "python",
   "name": "python3"
  },
  "language_info": {
   "codemirror_mode": {
    "name": "ipython",
    "version": 3
   },
   "file_extension": ".py",
   "mimetype": "text/x-python",
   "name": "python",
   "nbconvert_exporter": "python",
   "pygments_lexer": "ipython3",
   "version": "3.9.13"
  },
  "orig_nbformat": 4
 },
 "nbformat": 4,
 "nbformat_minor": 2
}
